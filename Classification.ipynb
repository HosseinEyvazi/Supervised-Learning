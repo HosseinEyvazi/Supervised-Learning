{
  "nbformat": 4,
  "nbformat_minor": 0,
  "metadata": {
    "colab": {
      "provenance": [],
      "authorship_tag": "ABX9TyOLoBOYTPQOi4dx8CP7tSYl",
      "include_colab_link": true
    },
    "kernelspec": {
      "name": "python3",
      "display_name": "Python 3"
    },
    "language_info": {
      "name": "python"
    }
  },
  "cells": [
    {
      "cell_type": "markdown",
      "metadata": {
        "id": "view-in-github",
        "colab_type": "text"
      },
      "source": [
        "<a href=\"https://colab.research.google.com/github/HosseinEyvazi/Supervised-Learning/blob/main/Classification.ipynb\" target=\"_parent\"><img src=\"https://colab.research.google.com/assets/colab-badge.svg\" alt=\"Open In Colab\"/></a>"
      ]
    },
    {
      "cell_type": "markdown",
      "source": [
        "### Classification VS Clustering(unsupervised)\n",
        "unsupervised has not got a label -> therefore we have to segment (or ...) datas"
      ],
      "metadata": {
        "id": "yHSDvWGp8ctQ"
      }
    },
    {
      "cell_type": "markdown",
      "source": [
        "# Classification\n",
        "Tasks :\n",
        "*   Binary classification (one-class classification)\n",
        "*   Multi-class classification\n",
        "\n"
      ],
      "metadata": {
        "id": "QqiFAN3V83jM"
      }
    },
    {
      "cell_type": "markdown",
      "source": [
        "Logistic Regression : is a Regression for classification \\\n",
        "logistic regression is a linear regression * Sigmoid function \\\n",
        "loss function for it : minimizing the cross entropy  \n",
        "\n",
        "note : Logistic Regression standard is for one-class classification . what shall we do for multi-class classification ? [answer ](https://chatgpt.com/share/67766d57-07c4-800f-addf-a2fad1c559f0)\n",
        "\n",
        "logstic regression Loss function for the multi-class ([refer to last question](https://chatgpt.com/share/67766d57-07c4-800f-addf-a2fad1c559f0))"
      ],
      "metadata": {
        "id": "EYaDcQONgKRV"
      }
    },
    {
      "cell_type": "markdown",
      "source": [
        "### Model performance\n",
        "In regression : MSE , MAE , RMSE , ...   \n",
        "In clustering : NMI , ARI , Silhouette , Rand , ...\n",
        "In classification : [methods](https://chatgpt.com/share/67767aaf-fa10-800f-8a14-e1dbbc5885c1)\n",
        "\n",
        "\n",
        "\n",
        "Note : [That is why](https://chatgpt.com/share/677676af-0bc0-800f-b610-51c8c37fe0ba) False Negative , Flase positve importance are not same. \\\n",
        "Confusion matrix : is matrix to show true positive and ... with more details\n",
        "\n",
        "\n"
      ],
      "metadata": {
        "id": "ISr-87kKuf9P"
      }
    },
    {
      "cell_type": "code",
      "execution_count": null,
      "metadata": {
        "id": "2DEQdw4Z8Zh3"
      },
      "outputs": [],
      "source": [
        "from sklearn.datasets import load_wine\n"
      ]
    }
  ]
}